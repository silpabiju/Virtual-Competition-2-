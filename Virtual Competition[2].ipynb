{
 "cells": [
  {
   "cell_type": "code",
   "execution_count": 66,
   "id": "6e13d4f9",
   "metadata": {},
   "outputs": [],
   "source": [
    "import pandas as pd\n",
    "import numpy as np\n",
    "import matplotlib.pyplot as plt\n",
    "import seaborn as sns"
   ]
  },
  {
   "cell_type": "code",
   "execution_count": 67,
   "id": "b477577f",
   "metadata": {},
   "outputs": [],
   "source": [
    "data = pd.read_csv(r\"C:\\Users\\ACER\\Downloads\\train_ctrUa4K.csv\")"
   ]
  },
  {
   "cell_type": "code",
   "execution_count": 68,
   "id": "92eeb71f",
   "metadata": {},
   "outputs": [
    {
     "data": {
      "text/html": [
       "<div>\n",
       "<style scoped>\n",
       "    .dataframe tbody tr th:only-of-type {\n",
       "        vertical-align: middle;\n",
       "    }\n",
       "\n",
       "    .dataframe tbody tr th {\n",
       "        vertical-align: top;\n",
       "    }\n",
       "\n",
       "    .dataframe thead th {\n",
       "        text-align: right;\n",
       "    }\n",
       "</style>\n",
       "<table border=\"1\" class=\"dataframe\">\n",
       "  <thead>\n",
       "    <tr style=\"text-align: right;\">\n",
       "      <th></th>\n",
       "      <th>Loan_ID</th>\n",
       "      <th>Gender</th>\n",
       "      <th>Married</th>\n",
       "      <th>Dependents</th>\n",
       "      <th>Education</th>\n",
       "      <th>Self_Employed</th>\n",
       "      <th>ApplicantIncome</th>\n",
       "      <th>CoapplicantIncome</th>\n",
       "      <th>LoanAmount</th>\n",
       "      <th>Loan_Amount_Term</th>\n",
       "      <th>Credit_History</th>\n",
       "      <th>Property_Area</th>\n",
       "      <th>Loan_Status</th>\n",
       "    </tr>\n",
       "  </thead>\n",
       "  <tbody>\n",
       "    <tr>\n",
       "      <th>0</th>\n",
       "      <td>LP001002</td>\n",
       "      <td>Male</td>\n",
       "      <td>No</td>\n",
       "      <td>0</td>\n",
       "      <td>Graduate</td>\n",
       "      <td>No</td>\n",
       "      <td>5849</td>\n",
       "      <td>0.0</td>\n",
       "      <td>NaN</td>\n",
       "      <td>360.0</td>\n",
       "      <td>1.0</td>\n",
       "      <td>Urban</td>\n",
       "      <td>Y</td>\n",
       "    </tr>\n",
       "    <tr>\n",
       "      <th>1</th>\n",
       "      <td>LP001003</td>\n",
       "      <td>Male</td>\n",
       "      <td>Yes</td>\n",
       "      <td>1</td>\n",
       "      <td>Graduate</td>\n",
       "      <td>No</td>\n",
       "      <td>4583</td>\n",
       "      <td>1508.0</td>\n",
       "      <td>128.0</td>\n",
       "      <td>360.0</td>\n",
       "      <td>1.0</td>\n",
       "      <td>Rural</td>\n",
       "      <td>N</td>\n",
       "    </tr>\n",
       "    <tr>\n",
       "      <th>2</th>\n",
       "      <td>LP001005</td>\n",
       "      <td>Male</td>\n",
       "      <td>Yes</td>\n",
       "      <td>0</td>\n",
       "      <td>Graduate</td>\n",
       "      <td>Yes</td>\n",
       "      <td>3000</td>\n",
       "      <td>0.0</td>\n",
       "      <td>66.0</td>\n",
       "      <td>360.0</td>\n",
       "      <td>1.0</td>\n",
       "      <td>Urban</td>\n",
       "      <td>Y</td>\n",
       "    </tr>\n",
       "    <tr>\n",
       "      <th>3</th>\n",
       "      <td>LP001006</td>\n",
       "      <td>Male</td>\n",
       "      <td>Yes</td>\n",
       "      <td>0</td>\n",
       "      <td>Not Graduate</td>\n",
       "      <td>No</td>\n",
       "      <td>2583</td>\n",
       "      <td>2358.0</td>\n",
       "      <td>120.0</td>\n",
       "      <td>360.0</td>\n",
       "      <td>1.0</td>\n",
       "      <td>Urban</td>\n",
       "      <td>Y</td>\n",
       "    </tr>\n",
       "    <tr>\n",
       "      <th>4</th>\n",
       "      <td>LP001008</td>\n",
       "      <td>Male</td>\n",
       "      <td>No</td>\n",
       "      <td>0</td>\n",
       "      <td>Graduate</td>\n",
       "      <td>No</td>\n",
       "      <td>6000</td>\n",
       "      <td>0.0</td>\n",
       "      <td>141.0</td>\n",
       "      <td>360.0</td>\n",
       "      <td>1.0</td>\n",
       "      <td>Urban</td>\n",
       "      <td>Y</td>\n",
       "    </tr>\n",
       "  </tbody>\n",
       "</table>\n",
       "</div>"
      ],
      "text/plain": [
       "    Loan_ID Gender Married Dependents     Education Self_Employed  \\\n",
       "0  LP001002   Male      No          0      Graduate            No   \n",
       "1  LP001003   Male     Yes          1      Graduate            No   \n",
       "2  LP001005   Male     Yes          0      Graduate           Yes   \n",
       "3  LP001006   Male     Yes          0  Not Graduate            No   \n",
       "4  LP001008   Male      No          0      Graduate            No   \n",
       "\n",
       "   ApplicantIncome  CoapplicantIncome  LoanAmount  Loan_Amount_Term  \\\n",
       "0             5849                0.0         NaN             360.0   \n",
       "1             4583             1508.0       128.0             360.0   \n",
       "2             3000                0.0        66.0             360.0   \n",
       "3             2583             2358.0       120.0             360.0   \n",
       "4             6000                0.0       141.0             360.0   \n",
       "\n",
       "   Credit_History Property_Area Loan_Status  \n",
       "0             1.0         Urban           Y  \n",
       "1             1.0         Rural           N  \n",
       "2             1.0         Urban           Y  \n",
       "3             1.0         Urban           Y  \n",
       "4             1.0         Urban           Y  "
      ]
     },
     "execution_count": 68,
     "metadata": {},
     "output_type": "execute_result"
    }
   ],
   "source": [
    "data.head()"
   ]
  },
  {
   "cell_type": "code",
   "execution_count": 69,
   "id": "90e773bb",
   "metadata": {},
   "outputs": [
    {
     "data": {
      "text/plain": [
       "(614, 13)"
      ]
     },
     "execution_count": 69,
     "metadata": {},
     "output_type": "execute_result"
    }
   ],
   "source": [
    "data.shape"
   ]
  },
  {
   "cell_type": "code",
   "execution_count": 70,
   "id": "6c7c87cb",
   "metadata": {
    "scrolled": true
   },
   "outputs": [
    {
     "data": {
      "text/plain": [
       "Loan_ID               object\n",
       "Gender                object\n",
       "Married               object\n",
       "Dependents            object\n",
       "Education             object\n",
       "Self_Employed         object\n",
       "ApplicantIncome        int64\n",
       "CoapplicantIncome    float64\n",
       "LoanAmount           float64\n",
       "Loan_Amount_Term     float64\n",
       "Credit_History       float64\n",
       "Property_Area         object\n",
       "Loan_Status           object\n",
       "dtype: object"
      ]
     },
     "execution_count": 70,
     "metadata": {},
     "output_type": "execute_result"
    }
   ],
   "source": [
    "data.dtypes"
   ]
  },
  {
   "cell_type": "code",
   "execution_count": 71,
   "id": "f6a2d945",
   "metadata": {},
   "outputs": [
    {
     "name": "stdout",
     "output_type": "stream",
     "text": [
      "<class 'pandas.core.frame.DataFrame'>\n",
      "RangeIndex: 614 entries, 0 to 613\n",
      "Data columns (total 13 columns):\n",
      " #   Column             Non-Null Count  Dtype  \n",
      "---  ------             --------------  -----  \n",
      " 0   Loan_ID            614 non-null    object \n",
      " 1   Gender             601 non-null    object \n",
      " 2   Married            611 non-null    object \n",
      " 3   Dependents         599 non-null    object \n",
      " 4   Education          614 non-null    object \n",
      " 5   Self_Employed      582 non-null    object \n",
      " 6   ApplicantIncome    614 non-null    int64  \n",
      " 7   CoapplicantIncome  614 non-null    float64\n",
      " 8   LoanAmount         592 non-null    float64\n",
      " 9   Loan_Amount_Term   600 non-null    float64\n",
      " 10  Credit_History     564 non-null    float64\n",
      " 11  Property_Area      614 non-null    object \n",
      " 12  Loan_Status        614 non-null    object \n",
      "dtypes: float64(4), int64(1), object(8)\n",
      "memory usage: 62.5+ KB\n"
     ]
    }
   ],
   "source": [
    "data.info()"
   ]
  },
  {
   "cell_type": "code",
   "execution_count": 72,
   "id": "6d3439cb",
   "metadata": {},
   "outputs": [
    {
     "data": {
      "text/html": [
       "<div>\n",
       "<style scoped>\n",
       "    .dataframe tbody tr th:only-of-type {\n",
       "        vertical-align: middle;\n",
       "    }\n",
       "\n",
       "    .dataframe tbody tr th {\n",
       "        vertical-align: top;\n",
       "    }\n",
       "\n",
       "    .dataframe thead th {\n",
       "        text-align: right;\n",
       "    }\n",
       "</style>\n",
       "<table border=\"1\" class=\"dataframe\">\n",
       "  <thead>\n",
       "    <tr style=\"text-align: right;\">\n",
       "      <th></th>\n",
       "      <th>ApplicantIncome</th>\n",
       "      <th>CoapplicantIncome</th>\n",
       "      <th>LoanAmount</th>\n",
       "      <th>Loan_Amount_Term</th>\n",
       "      <th>Credit_History</th>\n",
       "    </tr>\n",
       "  </thead>\n",
       "  <tbody>\n",
       "    <tr>\n",
       "      <th>count</th>\n",
       "      <td>614.000000</td>\n",
       "      <td>614.000000</td>\n",
       "      <td>592.000000</td>\n",
       "      <td>600.00000</td>\n",
       "      <td>564.000000</td>\n",
       "    </tr>\n",
       "    <tr>\n",
       "      <th>mean</th>\n",
       "      <td>5403.459283</td>\n",
       "      <td>1621.245798</td>\n",
       "      <td>146.412162</td>\n",
       "      <td>342.00000</td>\n",
       "      <td>0.842199</td>\n",
       "    </tr>\n",
       "    <tr>\n",
       "      <th>std</th>\n",
       "      <td>6109.041673</td>\n",
       "      <td>2926.248369</td>\n",
       "      <td>85.587325</td>\n",
       "      <td>65.12041</td>\n",
       "      <td>0.364878</td>\n",
       "    </tr>\n",
       "    <tr>\n",
       "      <th>min</th>\n",
       "      <td>150.000000</td>\n",
       "      <td>0.000000</td>\n",
       "      <td>9.000000</td>\n",
       "      <td>12.00000</td>\n",
       "      <td>0.000000</td>\n",
       "    </tr>\n",
       "    <tr>\n",
       "      <th>25%</th>\n",
       "      <td>2877.500000</td>\n",
       "      <td>0.000000</td>\n",
       "      <td>100.000000</td>\n",
       "      <td>360.00000</td>\n",
       "      <td>1.000000</td>\n",
       "    </tr>\n",
       "    <tr>\n",
       "      <th>50%</th>\n",
       "      <td>3812.500000</td>\n",
       "      <td>1188.500000</td>\n",
       "      <td>128.000000</td>\n",
       "      <td>360.00000</td>\n",
       "      <td>1.000000</td>\n",
       "    </tr>\n",
       "    <tr>\n",
       "      <th>75%</th>\n",
       "      <td>5795.000000</td>\n",
       "      <td>2297.250000</td>\n",
       "      <td>168.000000</td>\n",
       "      <td>360.00000</td>\n",
       "      <td>1.000000</td>\n",
       "    </tr>\n",
       "    <tr>\n",
       "      <th>max</th>\n",
       "      <td>81000.000000</td>\n",
       "      <td>41667.000000</td>\n",
       "      <td>700.000000</td>\n",
       "      <td>480.00000</td>\n",
       "      <td>1.000000</td>\n",
       "    </tr>\n",
       "  </tbody>\n",
       "</table>\n",
       "</div>"
      ],
      "text/plain": [
       "       ApplicantIncome  CoapplicantIncome  LoanAmount  Loan_Amount_Term  \\\n",
       "count       614.000000         614.000000  592.000000         600.00000   \n",
       "mean       5403.459283        1621.245798  146.412162         342.00000   \n",
       "std        6109.041673        2926.248369   85.587325          65.12041   \n",
       "min         150.000000           0.000000    9.000000          12.00000   \n",
       "25%        2877.500000           0.000000  100.000000         360.00000   \n",
       "50%        3812.500000        1188.500000  128.000000         360.00000   \n",
       "75%        5795.000000        2297.250000  168.000000         360.00000   \n",
       "max       81000.000000       41667.000000  700.000000         480.00000   \n",
       "\n",
       "       Credit_History  \n",
       "count      564.000000  \n",
       "mean         0.842199  \n",
       "std          0.364878  \n",
       "min          0.000000  \n",
       "25%          1.000000  \n",
       "50%          1.000000  \n",
       "75%          1.000000  \n",
       "max          1.000000  "
      ]
     },
     "execution_count": 72,
     "metadata": {},
     "output_type": "execute_result"
    }
   ],
   "source": [
    "data.describe()"
   ]
  },
  {
   "cell_type": "code",
   "execution_count": 73,
   "id": "898a4b36",
   "metadata": {},
   "outputs": [
    {
     "data": {
      "text/plain": [
       "Loan_ID               0\n",
       "Gender               13\n",
       "Married               3\n",
       "Dependents           15\n",
       "Education             0\n",
       "Self_Employed        32\n",
       "ApplicantIncome       0\n",
       "CoapplicantIncome     0\n",
       "LoanAmount           22\n",
       "Loan_Amount_Term     14\n",
       "Credit_History       50\n",
       "Property_Area         0\n",
       "Loan_Status           0\n",
       "dtype: int64"
      ]
     },
     "execution_count": 73,
     "metadata": {},
     "output_type": "execute_result"
    }
   ],
   "source": [
    "data.isnull().sum()"
   ]
  },
  {
   "cell_type": "code",
   "execution_count": 74,
   "id": "5b96b87f",
   "metadata": {},
   "outputs": [
    {
     "name": "stdout",
     "output_type": "stream",
     "text": [
      "\n",
      "After filling missing values:\n",
      "Loan_ID              0\n",
      "Gender               0\n",
      "Married              0\n",
      "Dependents           0\n",
      "Education            0\n",
      "Self_Employed        0\n",
      "ApplicantIncome      0\n",
      "CoapplicantIncome    0\n",
      "LoanAmount           0\n",
      "Loan_Amount_Term     0\n",
      "Credit_History       0\n",
      "Property_Area        0\n",
      "Loan_Status          0\n",
      "dtype: int64\n"
     ]
    },
    {
     "name": "stderr",
     "output_type": "stream",
     "text": [
      "C:\\Users\\ACER\\AppData\\Local\\Temp\\ipykernel_7424\\3094621073.py:2: FutureWarning: The default value of numeric_only in DataFrame.mean is deprecated. In a future version, it will default to False. In addition, specifying 'numeric_only=None' is deprecated. Select only valid columns or specify the value of numeric_only to silence this warning.\n",
      "  data.fillna(data.mean(), inplace=True)\n"
     ]
    }
   ],
   "source": [
    "# Fill missing values with the mean for numerical columns\n",
    "data.fillna(data.mean(), inplace=True)\n",
    "\n",
    "# Fill missing values with the mode for categorical columns\n",
    "data.fillna(data.mode().iloc[0], inplace=True)\n",
    "\n",
    "\n",
    "# Verify the filled missing values\n",
    "null_values = data.isnull().sum()\n",
    "print(\"\\nAfter filling missing values:\")\n",
    "print(null_values)"
   ]
  },
  {
   "cell_type": "markdown",
   "id": "ebd661e0",
   "metadata": {},
   "source": [
    "Outlier Handling"
   ]
  },
  {
   "cell_type": "code",
   "execution_count": 75,
   "id": "9105c975",
   "metadata": {},
   "outputs": [
    {
     "data": {
      "image/png": "[encoded data removed]",
      "text/plain": [
       "<Figure size 1000x600 with 1 Axes>"
      ]
     },
     "metadata": {},
     "output_type": "display_data"
    },
    {
     "name": "stdout",
     "output_type": "stream",
     "text": [
      "Outliers for LoanAmount:\n",
      "      Loan_ID  Gender Married Dependents     Education Self_Employed  \\\n",
      "5    LP001011    Male     Yes          2      Graduate           Yes   \n",
      "9    LP001020    Male     Yes          1      Graduate            No   \n",
      "21   LP001046    Male     Yes          1      Graduate            No   \n",
      "34   LP001100    Male      No         3+      Graduate            No   \n",
      "54   LP001186  Female     Yes          1      Graduate           Yes   \n",
      "67   LP001233    Male     Yes          1      Graduate            No   \n",
      "83   LP001273    Male     Yes          0      Graduate            No   \n",
      "126  LP001448    Male     Yes         3+      Graduate            No   \n",
      "130  LP001469    Male      No          0      Graduate           Yes   \n",
      "135  LP001488    Male     Yes         3+      Graduate            No   \n",
      "155  LP001536    Male     Yes         3+      Graduate            No   \n",
      "161  LP001562    Male     Yes          0      Graduate            No   \n",
      "171  LP001585    Male     Yes         3+      Graduate            No   \n",
      "177  LP001610    Male     Yes         3+      Graduate            No   \n",
      "233  LP001776  Female      No          0      Graduate            No   \n",
      "253  LP001843    Male     Yes          1  Not Graduate            No   \n",
      "258  LP001859    Male     Yes          0      Graduate            No   \n",
      "260  LP001865    Male     Yes          1      Graduate            No   \n",
      "278  LP001907    Male     Yes          0      Graduate            No   \n",
      "308  LP001996    Male      No          0      Graduate            No   \n",
      "324  LP002065    Male     Yes         3+      Graduate            No   \n",
      "325  LP002067    Male     Yes          1      Graduate           Yes   \n",
      "333  LP002101    Male     Yes          0      Graduate            No   \n",
      "351  LP002140    Male      No          0      Graduate            No   \n",
      "369  LP002191    Male     Yes          0      Graduate            No   \n",
      "372  LP002201    Male     Yes          2      Graduate           Yes   \n",
      "381  LP002229    Male      No          0      Graduate            No   \n",
      "391  LP002262    Male     Yes         3+      Graduate            No   \n",
      "409  LP002317    Male     Yes         3+      Graduate            No   \n",
      "432  LP002386    Male      No          0      Graduate            No   \n",
      "487  LP002547    Male     Yes          1      Graduate            No   \n",
      "506  LP002624    Male     Yes          0      Graduate            No   \n",
      "514  LP002652    Male      No          0      Graduate            No   \n",
      "523  LP002693    Male     Yes          2      Graduate           Yes   \n",
      "525  LP002699    Male     Yes          2      Graduate           Yes   \n",
      "536  LP002734    Male     Yes          0      Graduate            No   \n",
      "561  LP002813  Female     Yes          1      Graduate           Yes   \n",
      "572  LP002855    Male     Yes          2      Graduate            No   \n",
      "592  LP002933    Male      No         3+      Graduate           Yes   \n",
      "600  LP002949  Female      No         3+      Graduate            No   \n",
      "604  LP002959  Female     Yes          1      Graduate            No   \n",
      "\n",
      "     ApplicantIncome  CoapplicantIncome  LoanAmount  Loan_Amount_Term  \\\n",
      "5               5417             4196.0       267.0             360.0   \n",
      "9              12841            10968.0       349.0             360.0   \n",
      "21              5955             5625.0       315.0             360.0   \n",
      "34             12500             3000.0       320.0             360.0   \n",
      "54             11500                0.0       286.0             360.0   \n",
      "67             10750                0.0       312.0             360.0   \n",
      "83              6000             2250.0       265.0             360.0   \n",
      "126            23803                0.0       370.0             360.0   \n",
      "130            20166                0.0       650.0             480.0   \n",
      "135             4000             7750.0       290.0             360.0   \n",
      "155            39999                0.0       600.0             180.0   \n",
      "161             7933                0.0       275.0             360.0   \n",
      "171            51763                0.0       700.0             300.0   \n",
      "177             5516            11300.0       495.0             360.0   \n",
      "233             8333                0.0       280.0             360.0   \n",
      "253             2661             7101.0       279.0             180.0   \n",
      "258            14683             2100.0       304.0             360.0   \n",
      "260             6083             4250.0       330.0             360.0   \n",
      "278            14583                0.0       436.0             360.0   \n",
      "308            20233                0.0       480.0             360.0   \n",
      "324            15000                0.0       300.0             360.0   \n",
      "325             8666             4983.0       376.0             360.0   \n",
      "333            63337                0.0       490.0             180.0   \n",
      "351             8750             4167.0       308.0             360.0   \n",
      "369            19730             5266.0       570.0             360.0   \n",
      "372             9323             7873.0       380.0             300.0   \n",
      "381             5941             4232.0       296.0             360.0   \n",
      "391             9504                0.0       275.0             360.0   \n",
      "409            81000                0.0       360.0             360.0   \n",
      "432            12876                0.0       405.0             360.0   \n",
      "487            18333                0.0       500.0             360.0   \n",
      "506            20833             6667.0       480.0             360.0   \n",
      "514             5815             3666.0       311.0             360.0   \n",
      "523             7948             7166.0       480.0             360.0   \n",
      "525            17500                0.0       400.0             360.0   \n",
      "536             6133             3906.0       324.0             360.0   \n",
      "561            19484                0.0       600.0             360.0   \n",
      "572            16666                0.0       275.0             360.0   \n",
      "592             9357                0.0       292.0             360.0   \n",
      "600              416            41667.0       350.0             180.0   \n",
      "604            12000                0.0       496.0             360.0   \n",
      "\n",
      "     Credit_History Property_Area Loan_Status  \n",
      "5          1.000000         Urban           Y  \n",
      "9          1.000000     Semiurban           N  \n",
      "21         1.000000         Urban           Y  \n",
      "34         1.000000         Rural           N  \n",
      "54         0.000000         Urban           N  \n",
      "67         1.000000         Urban           Y  \n",
      "83         0.842199     Semiurban           N  \n",
      "126        1.000000         Rural           Y  \n",
      "130        0.842199         Urban           Y  \n",
      "135        1.000000     Semiurban           N  \n",
      "155        0.000000     Semiurban           Y  \n",
      "161        1.000000         Urban           N  \n",
      "171        1.000000         Urban           Y  \n",
      "177        0.000000     Semiurban           N  \n",
      "233        1.000000     Semiurban           Y  \n",
      "253        1.000000     Semiurban           Y  \n",
      "258        1.000000         Rural           N  \n",
      "260        0.842199         Urban           Y  \n",
      "278        1.000000     Semiurban           Y  \n",
      "308        1.000000         Rural           N  \n",
      "324        1.000000         Rural           Y  \n",
      "325        0.000000         Rural           N  \n",
      "333        1.000000         Urban           Y  \n",
      "351        1.000000         Rural           N  \n",
      "369        1.000000         Rural           N  \n",
      "372        1.000000         Rural           Y  \n",
      "381        1.000000     Semiurban           Y  \n",
      "391        1.000000         Rural           Y  \n",
      "409        0.000000         Rural           N  \n",
      "432        1.000000     Semiurban           Y  \n",
      "487        1.000000         Urban           N  \n",
      "506        0.842199         Urban           Y  \n",
      "514        1.000000         Rural           N  \n",
      "523        1.000000         Rural           Y  \n",
      "525        1.000000         Rural           Y  \n",
      "536        1.000000         Urban           Y  \n",
      "561        1.000000     Semiurban           Y  \n",
      "572        1.000000         Urban           Y  \n",
      "592        1.000000     Semiurban           Y  \n",
      "600        0.842199         Urban           N  \n",
      "604        1.000000     Semiurban           Y  \n",
      "\n",
      "Outliers for ApplicantIncome:\n",
      "      Loan_ID  Gender Married Dependents     Education Self_Employed  \\\n",
      "9    LP001020    Male     Yes          1      Graduate            No   \n",
      "34   LP001100    Male      No         3+      Graduate            No   \n",
      "54   LP001186  Female     Yes          1      Graduate           Yes   \n",
      "67   LP001233    Male     Yes          1      Graduate            No   \n",
      "102  LP001350    Male     Yes          0      Graduate            No   \n",
      "106  LP001369    Male     Yes          2      Graduate            No   \n",
      "115  LP001401    Male     Yes          1      Graduate            No   \n",
      "119  LP001422  Female      No          0      Graduate            No   \n",
      "126  LP001448    Male     Yes         3+      Graduate            No   \n",
      "128  LP001451    Male     Yes          1      Graduate           Yes   \n",
      "130  LP001469    Male      No          0      Graduate           Yes   \n",
      "138  LP001492    Male      No          0      Graduate            No   \n",
      "144  LP001508    Male     Yes          2      Graduate            No   \n",
      "146  LP001516  Female     Yes          2      Graduate            No   \n",
      "155  LP001536    Male     Yes         3+      Graduate            No   \n",
      "171  LP001585    Male     Yes         3+      Graduate            No   \n",
      "183  LP001637    Male     Yes          1      Graduate            No   \n",
      "185  LP001640    Male     Yes          0      Graduate           Yes   \n",
      "191  LP001656    Male      No          0      Graduate            No   \n",
      "199  LP001673    Male      No          0      Graduate           Yes   \n",
      "254  LP001844    Male      No          0      Graduate           Yes   \n",
      "258  LP001859    Male     Yes          0      Graduate            No   \n",
      "271  LP001891    Male     Yes          0      Graduate            No   \n",
      "278  LP001907    Male     Yes          0      Graduate            No   \n",
      "284  LP001922    Male     Yes          0      Graduate            No   \n",
      "308  LP001996    Male      No          0      Graduate            No   \n",
      "324  LP002065    Male     Yes         3+      Graduate            No   \n",
      "333  LP002101    Male     Yes          0      Graduate            No   \n",
      "369  LP002191    Male     Yes          0      Graduate            No   \n",
      "370  LP002194  Female      No          0      Graduate           Yes   \n",
      "409  LP002317    Male     Yes         3+      Graduate            No   \n",
      "424  LP002364    Male     Yes          0      Graduate            No   \n",
      "432  LP002386    Male      No          0      Graduate            No   \n",
      "438  LP002403    Male      No          0      Graduate           Yes   \n",
      "443  LP002422    Male      No          1      Graduate            No   \n",
      "467  LP002501    Male     Yes          0      Graduate            No   \n",
      "475  LP002527    Male     Yes          2      Graduate           Yes   \n",
      "478  LP002531    Male     Yes          1      Graduate           Yes   \n",
      "483  LP002541    Male     Yes          0      Graduate            No   \n",
      "487  LP002547    Male     Yes          1      Graduate            No   \n",
      "493  LP002582  Female      No          0  Not Graduate           Yes   \n",
      "506  LP002624    Male     Yes          0      Graduate            No   \n",
      "509  LP002634  Female      No          1      Graduate            No   \n",
      "525  LP002699    Male     Yes          2      Graduate           Yes   \n",
      "533  LP002729    Male      No          1      Graduate            No   \n",
      "534  LP002731  Female      No          0  Not Graduate           Yes   \n",
      "561  LP002813  Female     Yes          1      Graduate           Yes   \n",
      "572  LP002855    Male     Yes          2      Graduate            No   \n",
      "594  LP002938    Male     Yes          0      Graduate           Yes   \n",
      "604  LP002959  Female     Yes          1      Graduate            No   \n",
      "\n",
      "     ApplicantIncome  CoapplicantIncome  LoanAmount  Loan_Amount_Term  \\\n",
      "9              12841            10968.0  349.000000             360.0   \n",
      "34             12500             3000.0  320.000000             360.0   \n",
      "54             11500                0.0  286.000000             360.0   \n",
      "67             10750                0.0  312.000000             360.0   \n",
      "102            13650                0.0  146.412162             360.0   \n",
      "106            11417             1126.0  225.000000             360.0   \n",
      "115            14583                0.0  185.000000             180.0   \n",
      "119            10408                0.0  259.000000             360.0   \n",
      "126            23803                0.0  370.000000             360.0   \n",
      "128            10513             3850.0  160.000000             180.0   \n",
      "130            20166                0.0  650.000000             480.0   \n",
      "138            14999                0.0  242.000000             360.0   \n",
      "144            11757                0.0  187.000000             180.0   \n",
      "146            14866                0.0   70.000000             360.0   \n",
      "155            39999                0.0  600.000000             180.0   \n",
      "171            51763                0.0  700.000000             300.0   \n",
      "183            33846                0.0  260.000000             360.0   \n",
      "185            39147             4750.0  120.000000             360.0   \n",
      "191            12000                0.0  164.000000             360.0   \n",
      "199            11000                0.0   83.000000             360.0   \n",
      "254            16250                0.0  192.000000             360.0   \n",
      "258            14683             2100.0  304.000000             360.0   \n",
      "271            11146                0.0  136.000000             360.0   \n",
      "278            14583                0.0  436.000000             360.0   \n",
      "284            20667                0.0  146.412162             360.0   \n",
      "308            20233                0.0  480.000000             360.0   \n",
      "324            15000                0.0  300.000000             360.0   \n",
      "333            63337                0.0  490.000000             180.0   \n",
      "369            19730             5266.0  570.000000             360.0   \n",
      "370            15759                0.0   55.000000             360.0   \n",
      "409            81000                0.0  360.000000             360.0   \n",
      "424            14880                0.0   96.000000             360.0   \n",
      "432            12876                0.0  405.000000             360.0   \n",
      "438            10416                0.0  187.000000             360.0   \n",
      "443            37719                0.0  152.000000             360.0   \n",
      "467            16692                0.0  110.000000             360.0   \n",
      "475            16525             1014.0  150.000000             360.0   \n",
      "478            16667             2250.0   86.000000             360.0   \n",
      "483            10833                0.0  234.000000             360.0   \n",
      "487            18333                0.0  500.000000             360.0   \n",
      "493            17263                0.0  225.000000             360.0   \n",
      "506            20833             6667.0  480.000000             360.0   \n",
      "509            13262                0.0   40.000000             360.0   \n",
      "525            17500                0.0  400.000000             360.0   \n",
      "533            11250                0.0  196.000000             360.0   \n",
      "534            18165                0.0  125.000000             360.0   \n",
      "561            19484                0.0  600.000000             360.0   \n",
      "572            16666                0.0  275.000000             360.0   \n",
      "594            16120                0.0  260.000000             360.0   \n",
      "604            12000                0.0  496.000000             360.0   \n",
      "\n",
      "     Credit_History Property_Area Loan_Status  \n",
      "9          1.000000     Semiurban           N  \n",
      "34         1.000000         Rural           N  \n",
      "54         0.000000         Urban           N  \n",
      "67         1.000000         Urban           Y  \n",
      "102        1.000000         Urban           Y  \n",
      "106        1.000000         Urban           Y  \n",
      "115        1.000000         Rural           Y  \n",
      "119        1.000000         Urban           Y  \n",
      "126        1.000000         Rural           Y  \n",
      "128        0.000000         Urban           N  \n",
      "130        0.842199         Urban           Y  \n",
      "138        0.000000     Semiurban           N  \n",
      "144        1.000000         Urban           Y  \n",
      "146        1.000000         Urban           Y  \n",
      "155        0.000000     Semiurban           Y  \n",
      "171        1.000000         Urban           Y  \n",
      "183        1.000000     Semiurban           N  \n",
      "185        1.000000     Semiurban           Y  \n",
      "191        1.000000     Semiurban           N  \n",
      "199        1.000000         Urban           N  \n",
      "254        0.000000         Urban           N  \n",
      "258        1.000000         Rural           N  \n",
      "271        1.000000         Urban           Y  \n",
      "278        1.000000     Semiurban           Y  \n",
      "284        1.000000         Rural           N  \n",
      "308        1.000000         Rural           N  \n",
      "324        1.000000         Rural           Y  \n",
      "333        1.000000         Urban           Y  \n",
      "369        1.000000         Rural           N  \n",
      "370        1.000000     Semiurban           Y  \n",
      "409        0.000000         Rural           N  \n",
      "424        1.000000     Semiurban           Y  \n",
      "432        1.000000     Semiurban           Y  \n",
      "438        0.000000         Urban           N  \n",
      "443        1.000000     Semiurban           Y  \n",
      "467        1.000000     Semiurban           Y  \n",
      "475        1.000000         Rural           Y  \n",
      "478        1.000000     Semiurban           Y  \n",
      "483        1.000000     Semiurban           Y  \n",
      "487        1.000000         Urban           N  \n",
      "493        1.000000     Semiurban           Y  \n",
      "506        0.842199         Urban           Y  \n",
      "509        1.000000         Urban           Y  \n",
      "525        1.000000         Rural           Y  \n",
      "533        0.842199     Semiurban           N  \n",
      "534        1.000000         Urban           Y  \n",
      "561        1.000000     Semiurban           Y  \n",
      "572        1.000000         Urban           Y  \n",
      "594        1.000000         Urban           Y  \n",
      "604        1.000000     Semiurban           Y  \n",
      "\n",
      "Outliers for CoapplicantIncome:\n",
      "      Loan_ID  Gender Married Dependents     Education Self_Employed  \\\n",
      "9    LP001020    Male     Yes          1      Graduate            No   \n",
      "12   LP001028    Male     Yes          2      Graduate            No   \n",
      "38   LP001114    Male      No          0      Graduate            No   \n",
      "122  LP001431  Female      No          0      Graduate            No   \n",
      "135  LP001488    Male     Yes         3+      Graduate            No   \n",
      "177  LP001610    Male     Yes         3+      Graduate            No   \n",
      "180  LP001633    Male     Yes          1      Graduate            No   \n",
      "253  LP001843    Male     Yes          1  Not Graduate            No   \n",
      "349  LP002138    Male     Yes          0      Graduate            No   \n",
      "372  LP002201    Male     Yes          2      Graduate           Yes   \n",
      "402  LP002297    Male      No          0      Graduate            No   \n",
      "417  LP002342    Male     Yes          2      Graduate           Yes   \n",
      "444  LP002424    Male     Yes          0      Graduate            No   \n",
      "506  LP002624    Male     Yes          0      Graduate            No   \n",
      "513  LP002648    Male     Yes          0      Graduate            No   \n",
      "523  LP002693    Male     Yes          2      Graduate           Yes   \n",
      "581  LP002893    Male      No          0      Graduate            No   \n",
      "600  LP002949  Female      No         3+      Graduate            No   \n",
      "\n",
      "     ApplicantIncome  CoapplicantIncome  LoanAmount  Loan_Amount_Term  \\\n",
      "9              12841            10968.0       349.0             360.0   \n",
      "12              3073             8106.0       200.0             360.0   \n",
      "38              4166             7210.0       184.0             360.0   \n",
      "122             2137             8980.0       137.0             360.0   \n",
      "135             4000             7750.0       290.0             360.0   \n",
      "177             5516            11300.0       495.0             360.0   \n",
      "180             6400             7250.0       180.0             360.0   \n",
      "253             2661             7101.0       279.0             180.0   \n",
      "349             2625             6250.0       187.0             360.0   \n",
      "372             9323             7873.0       380.0             300.0   \n",
      "402             2500            20000.0       103.0             360.0   \n",
      "417             1600            20000.0       239.0             360.0   \n",
      "444             7333             8333.0       175.0             300.0   \n",
      "506            20833             6667.0       480.0             360.0   \n",
      "513             2130             6666.0        70.0             180.0   \n",
      "523             7948             7166.0       480.0             360.0   \n",
      "581             1836            33837.0        90.0             360.0   \n",
      "600              416            41667.0       350.0             180.0   \n",
      "\n",
      "     Credit_History Property_Area Loan_Status  \n",
      "9          1.000000     Semiurban           N  \n",
      "12         1.000000         Urban           Y  \n",
      "38         1.000000         Urban           Y  \n",
      "122        0.000000     Semiurban           Y  \n",
      "135        1.000000     Semiurban           N  \n",
      "177        0.000000     Semiurban           N  \n",
      "180        0.000000         Urban           N  \n",
      "253        1.000000     Semiurban           Y  \n",
      "349        1.000000         Rural           Y  \n",
      "372        1.000000         Rural           Y  \n",
      "402        1.000000     Semiurban           Y  \n",
      "417        1.000000         Urban           N  \n",
      "444        0.842199         Rural           Y  \n",
      "506        0.842199         Urban           Y  \n",
      "513        1.000000     Semiurban           N  \n",
      "523        1.000000         Rural           Y  \n",
      "581        1.000000         Urban           N  \n",
      "600        0.842199         Urban           N  \n",
      "\n",
      "Outliers for Loan_Amount_Term:\n",
      "      Loan_ID  Gender Married Dependents     Education Self_Employed  \\\n",
      "14   LP001030    Male     Yes          2      Graduate            No   \n",
      "16   LP001034    Male      No          1  Not Graduate            No   \n",
      "19   LP001041    Male     Yes          0      Graduate            No   \n",
      "36   LP001109    Male     Yes          0      Graduate            No   \n",
      "44   LP001136    Male     Yes          0  Not Graduate           Yes   \n",
      "..        ...     ...     ...        ...           ...           ...   \n",
      "591  LP002931    Male     Yes          2      Graduate           Yes   \n",
      "593  LP002936    Male     Yes          0      Graduate            No   \n",
      "600  LP002949  Female      No         3+      Graduate            No   \n",
      "605  LP002960    Male     Yes          0  Not Graduate            No   \n",
      "610  LP002979    Male     Yes         3+      Graduate            No   \n",
      "\n",
      "     ApplicantIncome  CoapplicantIncome  LoanAmount  Loan_Amount_Term  \\\n",
      "14              1299             1086.0   17.000000             120.0   \n",
      "16              3596                0.0  100.000000             240.0   \n",
      "19              2600             3500.0  115.000000             342.0   \n",
      "36              1828             1330.0  100.000000             342.0   \n",
      "44              4695                0.0   96.000000             342.0   \n",
      "..               ...                ...         ...               ...   \n",
      "591             6000                0.0  205.000000             240.0   \n",
      "593             3859             3300.0  142.000000             180.0   \n",
      "600              416            41667.0  350.000000             180.0   \n",
      "605             2400             3800.0  146.412162             180.0   \n",
      "610             4106                0.0   40.000000             180.0   \n",
      "\n",
      "     Credit_History Property_Area Loan_Status  \n",
      "14         1.000000         Urban           Y  \n",
      "16         0.842199         Urban           Y  \n",
      "19         1.000000         Urban           Y  \n",
      "36         0.000000         Urban           N  \n",
      "44         1.000000         Urban           Y  \n",
      "..              ...           ...         ...  \n",
      "591        1.000000     Semiurban           N  \n",
      "593        1.000000         Rural           Y  \n",
      "600        0.842199         Urban           N  \n",
      "605        1.000000         Urban           N  \n",
      "610        1.000000         Rural           Y  \n",
      "\n",
      "[102 rows x 13 columns]\n",
      "\n",
      "Outliers for Credit_History:\n",
      "      Loan_ID  Gender Married Dependents     Education Self_Employed  \\\n",
      "7    LP001014    Male     Yes         3+      Graduate            No   \n",
      "16   LP001034    Male      No          1  Not Graduate            No   \n",
      "17   LP001036  Female      No          0      Graduate            No   \n",
      "20   LP001043    Male     Yes          0  Not Graduate            No   \n",
      "22   LP001047    Male     Yes          0  Not Graduate            No   \n",
      "..        ...     ...     ...        ...           ...           ...   \n",
      "584  LP002911    Male     Yes          1      Graduate            No   \n",
      "589  LP002926    Male     Yes          2      Graduate           Yes   \n",
      "597  LP002943    Male      No          0      Graduate            No   \n",
      "600  LP002949  Female      No         3+      Graduate            No   \n",
      "613  LP002990  Female      No          0      Graduate           Yes   \n",
      "\n",
      "     ApplicantIncome  CoapplicantIncome  LoanAmount  Loan_Amount_Term  \\\n",
      "7               3036             2504.0       158.0             360.0   \n",
      "16              3596                0.0       100.0             240.0   \n",
      "17              3510                0.0        76.0             360.0   \n",
      "20              7660                0.0       104.0             360.0   \n",
      "22              2600             1911.0       116.0             360.0   \n",
      "..               ...                ...         ...               ...   \n",
      "584             2787             1917.0       146.0             360.0   \n",
      "589             2726                0.0       106.0             360.0   \n",
      "597             2987                0.0        88.0             360.0   \n",
      "600              416            41667.0       350.0             180.0   \n",
      "613             4583                0.0       133.0             360.0   \n",
      "\n",
      "     Credit_History Property_Area Loan_Status  \n",
      "7          0.000000     Semiurban           N  \n",
      "16         0.842199         Urban           Y  \n",
      "17         0.000000         Urban           N  \n",
      "20         0.000000         Urban           N  \n",
      "22         0.000000     Semiurban           N  \n",
      "..              ...           ...         ...  \n",
      "584        0.000000         Rural           N  \n",
      "589        0.000000     Semiurban           N  \n",
      "597        0.000000     Semiurban           N  \n",
      "600        0.842199         Urban           N  \n",
      "613        0.000000     Semiurban           N  \n",
      "\n",
      "[139 rows x 13 columns]\n",
      "\n"
     ]
    }
   ],
   "source": [
    "#  Identify the numerical features\n",
    "numerical_features = ['LoanAmount', 'ApplicantIncome', 'CoapplicantIncome', 'Loan_Amount_Term','Credit_History']\n",
    "\n",
    "#  Create box plots to visualize potential outliers\n",
    "plt.figure(figsize=(10, 6))\n",
    "data[numerical_features].boxplot()\n",
    "plt.xticks(rotation=45)\n",
    "plt.title('Box plot of numerical features')\n",
    "plt.show()\n",
    "\n",
    "#  Identify potential outliers\n",
    "# Calculate the IQR (interquartile range) for each numerical feature\n",
    "Q1 = data[numerical_features].quantile(0.25)\n",
    "Q3 = data[numerical_features].quantile(0.75)\n",
    "IQR = Q3 - Q1\n",
    "\n",
    "# Define the upper and lower bounds for outliers\n",
    "lower_bound = Q1 - 1.5 * IQR\n",
    "upper_bound = Q3 + 1.5 * IQR\n",
    "\n",
    "# Find outliers for each numerical feature\n",
    "outliers = {}\n",
    "for feature in numerical_features:\n",
    "    feature_outliers = data[(data[feature] < lower_bound[feature]) |\n",
    "                                      (data[feature] > upper_bound[feature])]\n",
    "    outliers[feature] = feature_outliers\n",
    "\n",
    "#  Print and inspect the outliers\n",
    "for feature, feature_outliers in outliers.items():\n",
    "    print(f\"Outliers for {feature}:\")\n",
    "    print(feature_outliers)\n",
    "    print()\n",
    "\n"
   ]
  },
  {
   "cell_type": "code",
   "execution_count": 76,
   "id": "6bd15474",
   "metadata": {},
   "outputs": [
    {
     "data": {
      "text/plain": [
       "Index(['Loan_ID', 'Gender', 'Married', 'Dependents', 'Education',\n",
       "       'Self_Employed', 'ApplicantIncome', 'CoapplicantIncome', 'LoanAmount',\n",
       "       'Loan_Amount_Term', 'Credit_History', 'Property_Area', 'Loan_Status'],\n",
       "      dtype='object')"
      ]
     },
     "execution_count": 76,
     "metadata": {},
     "output_type": "execute_result"
    }
   ],
   "source": [
    "data.columns"
   ]
  },
  {
   "cell_type": "code",
   "execution_count": 77,
   "id": "385f87de",
   "metadata": {},
   "outputs": [
    {
     "data": {
      "image/png": "[encoded data removed]",
      "text/plain": [
       "<Figure size 640x480 with 1 Axes>"
      ]
     },
     "metadata": {},
     "output_type": "display_data"
    },
    {
     "data": {
      "image/png": "[encoded data removed]",
      "text/plain": [
       "<Figure size 640x480 with 1 Axes>"
      ]
     },
     "metadata": {},
     "output_type": "display_data"
    },
    {
     "data": {
      "image/png": "[encoded data removed]",
      "text/plain": [
       "<Figure size 640x480 with 1 Axes>"
      ]
     },
     "metadata": {},
     "output_type": "display_data"
    },
    {
     "data": {
      "image/png": "[encoded data removed]",
      "text/plain": [
       "<Figure size 640x480 with 1 Axes>"
      ]
     },
     "metadata": {},
     "output_type": "display_data"
    },
    {
     "data": {
      "image/png": "[encoded data removed]",
      "text/plain": [
       "<Figure size 640x480 with 1 Axes>"
      ]
     },
     "metadata": {},
     "output_type": "display_data"
    }
   ],
   "source": [
    "num_cols = ['ApplicantIncome', 'CoapplicantIncome', 'LoanAmount',\n",
    "       'Loan_Amount_Term', 'Credit_History']\n",
    "for i in num_cols:\n",
    "    plt.figure()\n",
    "    plt.boxplot(data[i])\n",
    "    plt.title(i)"
   ]
  },
  {
   "cell_type": "code",
   "execution_count": 78,
   "id": "bb71659b",
   "metadata": {},
   "outputs": [
    {
     "name": "stderr",
     "output_type": "stream",
     "text": [
      "C:\\Users\\ACER\\AppData\\Local\\Temp\\ipykernel_7424\\2654157438.py:1: DeprecationWarning: the `interpolation=` argument to percentile was renamed to `method=`, which has additional options.\n",
      "Users of the modes 'nearest', 'lower', 'higher', or 'midpoint' are encouraged to review the method they used. (Deprecated NumPy 1.22)\n",
      "  Q1 = np.percentile(data['ApplicantIncome'],25,interpolation='midpoint')\n",
      "C:\\Users\\ACER\\AppData\\Local\\Temp\\ipykernel_7424\\2654157438.py:2: DeprecationWarning: the `interpolation=` argument to percentile was renamed to `method=`, which has additional options.\n",
      "Users of the modes 'nearest', 'lower', 'higher', or 'midpoint' are encouraged to review the method they used. (Deprecated NumPy 1.22)\n",
      "  Q2 = np.percentile(data['ApplicantIncome'],50,interpolation='midpoint')\n",
      "C:\\Users\\ACER\\AppData\\Local\\Temp\\ipykernel_7424\\2654157438.py:3: DeprecationWarning: the `interpolation=` argument to percentile was renamed to `method=`, which has additional options.\n",
      "Users of the modes 'nearest', 'lower', 'higher', or 'midpoint' are encouraged to review the method they used. (Deprecated NumPy 1.22)\n",
      "  Q3 = np.percentile(data['ApplicantIncome'],75,interpolation='midpoint')\n"
     ]
    }
   ],
   "source": [
    "Q1 = np.percentile(data['ApplicantIncome'],25,interpolation='midpoint')\n",
    "Q2 = np.percentile(data['ApplicantIncome'],50,interpolation='midpoint')\n",
    "Q3 = np.percentile(data['ApplicantIncome'],75,interpolation='midpoint')"
   ]
  },
  {
   "cell_type": "code",
   "execution_count": 79,
   "id": "41a598cd",
   "metadata": {},
   "outputs": [
    {
     "name": "stdout",
     "output_type": "stream",
     "text": [
      "2879.0\n",
      "3812.5\n",
      "5790.0\n"
     ]
    }
   ],
   "source": [
    "print(Q1)\n",
    "print(Q2)\n",
    "print(Q3)"
   ]
  },
  {
   "cell_type": "code",
   "execution_count": 80,
   "id": "61aad9ee",
   "metadata": {},
   "outputs": [
    {
     "data": {
      "text/plain": [
       "3812.5"
      ]
     },
     "execution_count": 80,
     "metadata": {},
     "output_type": "execute_result"
    }
   ],
   "source": [
    "data['ApplicantIncome'].median()"
   ]
  },
  {
   "cell_type": "code",
   "execution_count": 81,
   "id": "56d1a26f",
   "metadata": {},
   "outputs": [],
   "source": [
    "IQR = Q3-Q1"
   ]
  },
  {
   "cell_type": "code",
   "execution_count": 82,
   "id": "f16bcf74",
   "metadata": {},
   "outputs": [
    {
     "name": "stdout",
     "output_type": "stream",
     "text": [
      "2911.0\n"
     ]
    }
   ],
   "source": [
    "print(IQR)"
   ]
  },
  {
   "cell_type": "code",
   "execution_count": 83,
   "id": "42264785",
   "metadata": {},
   "outputs": [],
   "source": [
    "up_lim = Q3+1.5*IQR\n",
    "low_lim = Q1-1.5*IQR"
   ]
  },
  {
   "cell_type": "code",
   "execution_count": 84,
   "id": "df66f83e",
   "metadata": {},
   "outputs": [
    {
     "name": "stdout",
     "output_type": "stream",
     "text": [
      "10156.5\n",
      "-1487.5\n"
     ]
    }
   ],
   "source": [
    "print(up_lim)\n",
    "print(low_lim)"
   ]
  },
  {
   "cell_type": "code",
   "execution_count": 85,
   "id": "d13c9c8d",
   "metadata": {},
   "outputs": [],
   "source": [
    "outliers = []\n",
    "for x in data['ApplicantIncome']:\n",
    "    if(x>up_lim) or (x<low_lim):\n",
    "      outliers.append(x)"
   ]
  },
  {
   "cell_type": "code",
   "execution_count": 86,
   "id": "674792bb",
   "metadata": {},
   "outputs": [
    {
     "data": {
      "text/plain": [
       "[12841,\n",
       " 12500,\n",
       " 11500,\n",
       " 10750,\n",
       " 13650,\n",
       " 11417,\n",
       " 14583,\n",
       " 10408,\n",
       " 23803,\n",
       " 10513,\n",
       " 20166,\n",
       " 14999,\n",
       " 11757,\n",
       " 14866,\n",
       " 39999,\n",
       " 51763,\n",
       " 33846,\n",
       " 39147,\n",
       " 12000,\n",
       " 11000,\n",
       " 16250,\n",
       " 14683,\n",
       " 11146,\n",
       " 14583,\n",
       " 20667,\n",
       " 20233,\n",
       " 15000,\n",
       " 63337,\n",
       " 19730,\n",
       " 15759,\n",
       " 81000,\n",
       " 14880,\n",
       " 12876,\n",
       " 10416,\n",
       " 37719,\n",
       " 16692,\n",
       " 16525,\n",
       " 16667,\n",
       " 10833,\n",
       " 18333,\n",
       " 17263,\n",
       " 20833,\n",
       " 13262,\n",
       " 17500,\n",
       " 11250,\n",
       " 18165,\n",
       " 19484,\n",
       " 16666,\n",
       " 16120,\n",
       " 12000]"
      ]
     },
     "execution_count": 86,
     "metadata": {},
     "output_type": "execute_result"
    }
   ],
   "source": [
    "outliers"
   ]
  },
  {
   "cell_type": "code",
   "execution_count": 87,
   "id": "a732ff57",
   "metadata": {},
   "outputs": [
    {
     "name": "stderr",
     "output_type": "stream",
     "text": [
      "C:\\Users\\ACER\\AppData\\Local\\Temp\\ipykernel_7424\\1242185544.py:1: DeprecationWarning: the `interpolation=` argument to percentile was renamed to `method=`, which has additional options.\n",
      "Users of the modes 'nearest', 'lower', 'higher', or 'midpoint' are encouraged to review the method they used. (Deprecated NumPy 1.22)\n",
      "  Q1 = np.percentile(data['CoapplicantIncome'],25,interpolation='midpoint')\n",
      "C:\\Users\\ACER\\AppData\\Local\\Temp\\ipykernel_7424\\1242185544.py:2: DeprecationWarning: the `interpolation=` argument to percentile was renamed to `method=`, which has additional options.\n",
      "Users of the modes 'nearest', 'lower', 'higher', or 'midpoint' are encouraged to review the method they used. (Deprecated NumPy 1.22)\n",
      "  Q2 = np.percentile(data['CoapplicantIncome'],50,interpolation='midpoint')\n",
      "C:\\Users\\ACER\\AppData\\Local\\Temp\\ipykernel_7424\\1242185544.py:3: DeprecationWarning: the `interpolation=` argument to percentile was renamed to `method=`, which has additional options.\n",
      "Users of the modes 'nearest', 'lower', 'higher', or 'midpoint' are encouraged to review the method they used. (Deprecated NumPy 1.22)\n",
      "  Q3 = np.percentile(data['CoapplicantIncome'],75,interpolation='midpoint')\n"
     ]
    }
   ],
   "source": [
    "Q1 = np.percentile(data['CoapplicantIncome'],25,interpolation='midpoint')\n",
    "Q2 = np.percentile(data['CoapplicantIncome'],50,interpolation='midpoint')\n",
    "Q3 = np.percentile(data['CoapplicantIncome'],75,interpolation='midpoint')"
   ]
  },
  {
   "cell_type": "code",
   "execution_count": 88,
   "id": "dd2bd75a",
   "metadata": {},
   "outputs": [
    {
     "name": "stdout",
     "output_type": "stream",
     "text": [
      "0.0\n",
      "1188.5\n",
      "2292.5\n"
     ]
    }
   ],
   "source": [
    "print(Q1)\n",
    "print(Q2)\n",
    "print(Q3)"
   ]
  },
  {
   "cell_type": "code",
   "execution_count": 89,
   "id": "ecdd9980",
   "metadata": {},
   "outputs": [
    {
     "data": {
      "text/plain": [
       "1188.5"
      ]
     },
     "execution_count": 89,
     "metadata": {},
     "output_type": "execute_result"
    }
   ],
   "source": [
    "data['CoapplicantIncome'].median()"
   ]
  },
  {
   "cell_type": "code",
   "execution_count": 90,
   "id": "f5813263",
   "metadata": {},
   "outputs": [],
   "source": [
    "IQR = Q3-Q1"
   ]
  },
  {
   "cell_type": "code",
   "execution_count": 91,
   "id": "cd41e533",
   "metadata": {},
   "outputs": [
    {
     "name": "stdout",
     "output_type": "stream",
     "text": [
      "2292.5\n"
     ]
    }
   ],
   "source": [
    "print(IQR)"
   ]
  },
  {
   "cell_type": "code",
   "execution_count": 92,
   "id": "7ad61c6f",
   "metadata": {},
   "outputs": [],
   "source": [
    "up_lim = Q3+1.5*IQR\n",
    "low_lim = Q1-1.5*IQR"
   ]
  },
  {
   "cell_type": "code",
   "execution_count": 93,
   "id": "bd1d88df",
   "metadata": {},
   "outputs": [
    {
     "name": "stdout",
     "output_type": "stream",
     "text": [
      "5731.25\n",
      "-3438.75\n"
     ]
    }
   ],
   "source": [
    "print(up_lim)\n",
    "print(low_lim)"
   ]
  },
  {
   "cell_type": "code",
   "execution_count": 94,
   "id": "b5ba6a92",
   "metadata": {},
   "outputs": [],
   "source": [
    "outliers = []\n",
    "for x in data['CoapplicantIncome']:\n",
    "    if(x>up_lim) or (x<low_lim):\n",
    "      outliers.append(x)"
   ]
  },
  {
   "cell_type": "code",
   "execution_count": 95,
   "id": "21d178c6",
   "metadata": {},
   "outputs": [
    {
     "data": {
      "text/plain": [
       "[10968.0,\n",
       " 8106.0,\n",
       " 7210.0,\n",
       " 8980.0,\n",
       " 7750.0,\n",
       " 11300.0,\n",
       " 7250.0,\n",
       " 7101.0,\n",
       " 6250.0,\n",
       " 7873.0,\n",
       " 20000.0,\n",
       " 20000.0,\n",
       " 8333.0,\n",
       " 6667.0,\n",
       " 6666.0,\n",
       " 7166.0,\n",
       " 33837.0,\n",
       " 41667.0]"
      ]
     },
     "execution_count": 95,
     "metadata": {},
     "output_type": "execute_result"
    }
   ],
   "source": [
    "outliers"
   ]
  },
  {
   "cell_type": "code",
   "execution_count": 96,
   "id": "4ba919a8",
   "metadata": {},
   "outputs": [
    {
     "name": "stderr",
     "output_type": "stream",
     "text": [
      "C:\\Users\\ACER\\AppData\\Local\\Temp\\ipykernel_7424\\1317242131.py:1: DeprecationWarning: the `interpolation=` argument to percentile was renamed to `method=`, which has additional options.\n",
      "Users of the modes 'nearest', 'lower', 'higher', or 'midpoint' are encouraged to review the method they used. (Deprecated NumPy 1.22)\n",
      "  Q1 = np.percentile(data['LoanAmount'],25,interpolation='midpoint')\n",
      "C:\\Users\\ACER\\AppData\\Local\\Temp\\ipykernel_7424\\1317242131.py:2: DeprecationWarning: the `interpolation=` argument to percentile was renamed to `method=`, which has additional options.\n",
      "Users of the modes 'nearest', 'lower', 'higher', or 'midpoint' are encouraged to review the method they used. (Deprecated NumPy 1.22)\n",
      "  Q2 = np.percentile(data['LoanAmount'],50,interpolation='midpoint')\n",
      "C:\\Users\\ACER\\AppData\\Local\\Temp\\ipykernel_7424\\1317242131.py:3: DeprecationWarning: the `interpolation=` argument to percentile was renamed to `method=`, which has additional options.\n",
      "Users of the modes 'nearest', 'lower', 'higher', or 'midpoint' are encouraged to review the method they used. (Deprecated NumPy 1.22)\n",
      "  Q3 = np.percentile(data['LoanAmount'],75,interpolation='midpoint')\n"
     ]
    }
   ],
   "source": [
    "Q1 = np.percentile(data['LoanAmount'],25,interpolation='midpoint')\n",
    "Q2 = np.percentile(data['LoanAmount'],50,interpolation='midpoint')\n",
    "Q3 = np.percentile(data['LoanAmount'],75,interpolation='midpoint')"
   ]
  },
  {
   "cell_type": "code",
   "execution_count": 97,
   "id": "cda21aa9",
   "metadata": {},
   "outputs": [
    {
     "name": "stdout",
     "output_type": "stream",
     "text": [
      "100.5\n",
      "129.0\n",
      "164.5\n"
     ]
    }
   ],
   "source": [
    "print(Q1)\n",
    "print(Q2)\n",
    "print(Q3)"
   ]
  },
  {
   "cell_type": "code",
   "execution_count": 98,
   "id": "16575ccd",
   "metadata": {},
   "outputs": [
    {
     "data": {
      "text/plain": [
       "129.0"
      ]
     },
     "execution_count": 98,
     "metadata": {},
     "output_type": "execute_result"
    }
   ],
   "source": [
    "data['LoanAmount'].median()"
   ]
  },
  {
   "cell_type": "code",
   "execution_count": 99,
   "id": "28954647",
   "metadata": {},
   "outputs": [],
   "source": [
    "IQR = Q3-Q1"
   ]
  },
  {
   "cell_type": "code",
   "execution_count": 100,
   "id": "1fb24ea5",
   "metadata": {
    "scrolled": false
   },
   "outputs": [
    {
     "name": "stdout",
     "output_type": "stream",
     "text": [
      "64.0\n"
     ]
    }
   ],
   "source": [
    "print(IQR)"
   ]
  },
  {
   "cell_type": "code",
   "execution_count": 101,
   "id": "f16c1dd2",
   "metadata": {},
   "outputs": [],
   "source": [
    "up_lim = Q3+1.5*IQR\n",
    "low_lim = Q1-1.5*IQR"
   ]
  },
  {
   "cell_type": "code",
   "execution_count": 102,
   "id": "73ecc2af",
   "metadata": {},
   "outputs": [
    {
     "name": "stdout",
     "output_type": "stream",
     "text": [
      "260.5\n",
      "4.5\n"
     ]
    }
   ],
   "source": [
    "print(up_lim)\n",
    "print(low_lim)"
   ]
  },
  {
   "cell_type": "code",
   "execution_count": 103,
   "id": "1089fbbf",
   "metadata": {},
   "outputs": [],
   "source": [
    "outliers = []\n",
    "for x in data['LoanAmount']:\n",
    "    if(x>up_lim) or (x<low_lim):\n",
    "      outliers.append(x)"
   ]
  },
  {
   "cell_type": "code",
   "execution_count": 104,
   "id": "edcd3d0b",
   "metadata": {},
   "outputs": [
    {
     "data": {
      "text/plain": [
       "[267.0,\n",
       " 349.0,\n",
       " 315.0,\n",
       " 320.0,\n",
       " 286.0,\n",
       " 312.0,\n",
       " 265.0,\n",
       " 370.0,\n",
       " 650.0,\n",
       " 290.0,\n",
       " 600.0,\n",
       " 275.0,\n",
       " 700.0,\n",
       " 495.0,\n",
       " 280.0,\n",
       " 279.0,\n",
       " 304.0,\n",
       " 330.0,\n",
       " 436.0,\n",
       " 480.0,\n",
       " 300.0,\n",
       " 376.0,\n",
       " 490.0,\n",
       " 308.0,\n",
       " 570.0,\n",
       " 380.0,\n",
       " 296.0,\n",
       " 275.0,\n",
       " 360.0,\n",
       " 405.0,\n",
       " 500.0,\n",
       " 480.0,\n",
       " 311.0,\n",
       " 480.0,\n",
       " 400.0,\n",
       " 324.0,\n",
       " 600.0,\n",
       " 275.0,\n",
       " 292.0,\n",
       " 350.0,\n",
       " 496.0]"
      ]
     },
     "execution_count": 104,
     "metadata": {},
     "output_type": "execute_result"
    }
   ],
   "source": [
    "outliers"
   ]
  },
  {
   "cell_type": "code",
   "execution_count": 105,
   "id": "939e0c67",
   "metadata": {},
   "outputs": [
    {
     "name": "stderr",
     "output_type": "stream",
     "text": [
      "C:\\Users\\ACER\\AppData\\Local\\Temp\\ipykernel_7424\\87478988.py:1: DeprecationWarning: the `interpolation=` argument to percentile was renamed to `method=`, which has additional options.\n",
      "Users of the modes 'nearest', 'lower', 'higher', or 'midpoint' are encouraged to review the method they used. (Deprecated NumPy 1.22)\n",
      "  Q1 = np.percentile(data['Loan_Amount_Term'],25,interpolation='midpoint')\n",
      "C:\\Users\\ACER\\AppData\\Local\\Temp\\ipykernel_7424\\87478988.py:2: DeprecationWarning: the `interpolation=` argument to percentile was renamed to `method=`, which has additional options.\n",
      "Users of the modes 'nearest', 'lower', 'higher', or 'midpoint' are encouraged to review the method they used. (Deprecated NumPy 1.22)\n",
      "  Q2 = np.percentile(data['Loan_Amount_Term'],50,interpolation='midpoint')\n",
      "C:\\Users\\ACER\\AppData\\Local\\Temp\\ipykernel_7424\\87478988.py:3: DeprecationWarning: the `interpolation=` argument to percentile was renamed to `method=`, which has additional options.\n",
      "Users of the modes 'nearest', 'lower', 'higher', or 'midpoint' are encouraged to review the method they used. (Deprecated NumPy 1.22)\n",
      "  Q3 = np.percentile(data['Loan_Amount_Term'],75,interpolation='midpoint')\n"
     ]
    }
   ],
   "source": [
    "Q1 = np.percentile(data['Loan_Amount_Term'],25,interpolation='midpoint')\n",
    "Q2 = np.percentile(data['Loan_Amount_Term'],50,interpolation='midpoint')\n",
    "Q3 = np.percentile(data['Loan_Amount_Term'],75,interpolation='midpoint')"
   ]
  },
  {
   "cell_type": "code",
   "execution_count": 106,
   "id": "e687f13b",
   "metadata": {},
   "outputs": [
    {
     "name": "stdout",
     "output_type": "stream",
     "text": [
      "360.0\n",
      "360.0\n",
      "360.0\n"
     ]
    }
   ],
   "source": [
    "print(Q1)\n",
    "print(Q2)\n",
    "print(Q3)"
   ]
  },
  {
   "cell_type": "code",
   "execution_count": 107,
   "id": "16baef2e",
   "metadata": {},
   "outputs": [
    {
     "data": {
      "text/plain": [
       "360.0"
      ]
     },
     "execution_count": 107,
     "metadata": {},
     "output_type": "execute_result"
    }
   ],
   "source": [
    "data['Loan_Amount_Term'].median()"
   ]
  },
  {
   "cell_type": "code",
   "execution_count": 108,
   "id": "f5b78345",
   "metadata": {},
   "outputs": [],
   "source": [
    "IQR = Q3-Q1"
   ]
  },
  {
   "cell_type": "code",
   "execution_count": 109,
   "id": "17812f7b",
   "metadata": {},
   "outputs": [
    {
     "name": "stdout",
     "output_type": "stream",
     "text": [
      "0.0\n"
     ]
    }
   ],
   "source": [
    "print(IQR)"
   ]
  },
  {
   "cell_type": "code",
   "execution_count": 110,
   "id": "8851b3ec",
   "metadata": {},
   "outputs": [],
   "source": [
    "up_lim = Q3+1.5*IQR\n",
    "low_lim = Q1-1.5*IQR"
   ]
  },
  {
   "cell_type": "code",
   "execution_count": 111,
   "id": "69bd70cb",
   "metadata": {
    "scrolled": true
   },
   "outputs": [
    {
     "name": "stdout",
     "output_type": "stream",
     "text": [
      "360.0\n",
      "360.0\n"
     ]
    }
   ],
   "source": [
    "print(up_lim)\n",
    "print(low_lim)"
   ]
  },
  {
   "cell_type": "code",
   "execution_count": 112,
   "id": "924a7d67",
   "metadata": {},
   "outputs": [],
   "source": [
    "outliers = []\n",
    "for x in data['Loan_Amount_Term']:\n",
    "    if(x>up_lim) or (x<low_lim):\n",
    "      outliers.append(x)"
   ]
  },
  {
   "cell_type": "code",
   "execution_count": 113,
   "id": "a5cead9e",
   "metadata": {},
   "outputs": [
    {
     "data": {
      "text/plain": [
       "[120.0,\n",
       " 240.0,\n",
       " 342.0,\n",
       " 342.0,\n",
       " 342.0,\n",
       " 342.0,\n",
       " 180.0,\n",
       " 180.0,\n",
       " 60.0,\n",
       " 300.0,\n",
       " 342.0,\n",
       " 480.0,\n",
       " 300.0,\n",
       " 240.0,\n",
       " 180.0,\n",
       " 120.0,\n",
       " 180.0,\n",
       " 180.0,\n",
       " 480.0,\n",
       " 342.0,\n",
       " 180.0,\n",
       " 180.0,\n",
       " 480.0,\n",
       " 120.0,\n",
       " 180.0,\n",
       " 180.0,\n",
       " 180.0,\n",
       " 180.0,\n",
       " 342.0,\n",
       " 480.0,\n",
       " 300.0,\n",
       " 180.0,\n",
       " 480.0,\n",
       " 180.0,\n",
       " 300.0,\n",
       " 180.0,\n",
       " 342.0,\n",
       " 180.0,\n",
       " 342.0,\n",
       " 480.0,\n",
       " 180.0,\n",
       " 342.0,\n",
       " 180.0,\n",
       " 60.0,\n",
       " 180.0,\n",
       " 180.0,\n",
       " 480.0,\n",
       " 180.0,\n",
       " 36.0,\n",
       " 180.0,\n",
       " 300.0,\n",
       " 480.0,\n",
       " 480.0,\n",
       " 84.0,\n",
       " 180.0,\n",
       " 180.0,\n",
       " 180.0,\n",
       " 342.0,\n",
       " 180.0,\n",
       " 480.0,\n",
       " 300.0,\n",
       " 480.0,\n",
       " 342.0,\n",
       " 300.0,\n",
       " 180.0,\n",
       " 180.0,\n",
       " 480.0,\n",
       " 180.0,\n",
       " 180.0,\n",
       " 180.0,\n",
       " 300.0,\n",
       " 300.0,\n",
       " 342.0,\n",
       " 342.0,\n",
       " 180.0,\n",
       " 240.0,\n",
       " 300.0,\n",
       " 300.0,\n",
       " 180.0,\n",
       " 180.0,\n",
       " 180.0,\n",
       " 180.0,\n",
       " 300.0,\n",
       " 84.0,\n",
       " 12.0,\n",
       " 480.0,\n",
       " 300.0,\n",
       " 180.0,\n",
       " 480.0,\n",
       " 180.0,\n",
       " 180.0,\n",
       " 36.0,\n",
       " 180.0,\n",
       " 480.0,\n",
       " 84.0,\n",
       " 84.0,\n",
       " 180.0,\n",
       " 240.0,\n",
       " 180.0,\n",
       " 180.0,\n",
       " 180.0,\n",
       " 180.0]"
      ]
     },
     "execution_count": 113,
     "metadata": {},
     "output_type": "execute_result"
    }
   ],
   "source": [
    "outliers"
   ]
  },
  {
   "cell_type": "code",
   "execution_count": 114,
   "id": "25603426",
   "metadata": {},
   "outputs": [
    {
     "name": "stderr",
     "output_type": "stream",
     "text": [
      "C:\\Users\\ACER\\AppData\\Local\\Temp\\ipykernel_7424\\2180486814.py:1: DeprecationWarning: the `interpolation=` argument to percentile was renamed to `method=`, which has additional options.\n",
      "Users of the modes 'nearest', 'lower', 'higher', or 'midpoint' are encouraged to review the method they used. (Deprecated NumPy 1.22)\n",
      "  Q1 = np.percentile(data['Credit_History'],25,interpolation='midpoint')\n",
      "C:\\Users\\ACER\\AppData\\Local\\Temp\\ipykernel_7424\\2180486814.py:2: DeprecationWarning: the `interpolation=` argument to percentile was renamed to `method=`, which has additional options.\n",
      "Users of the modes 'nearest', 'lower', 'higher', or 'midpoint' are encouraged to review the method they used. (Deprecated NumPy 1.22)\n",
      "  Q2 = np.percentile(data['Credit_History'],50,interpolation='midpoint')\n",
      "C:\\Users\\ACER\\AppData\\Local\\Temp\\ipykernel_7424\\2180486814.py:3: DeprecationWarning: the `interpolation=` argument to percentile was renamed to `method=`, which has additional options.\n",
      "Users of the modes 'nearest', 'lower', 'higher', or 'midpoint' are encouraged to review the method they used. (Deprecated NumPy 1.22)\n",
      "  Q3 = np.percentile(data['Credit_History'],75,interpolation='midpoint')\n"
     ]
    }
   ],
   "source": [
    "Q1 = np.percentile(data['Credit_History'],25,interpolation='midpoint')\n",
    "Q2 = np.percentile(data['Credit_History'],50,interpolation='midpoint')\n",
    "Q3 = np.percentile(data['Credit_History'],75,interpolation='midpoint')"
   ]
  },
  {
   "cell_type": "code",
   "execution_count": 115,
   "id": "f248287c",
   "metadata": {},
   "outputs": [
    {
     "name": "stdout",
     "output_type": "stream",
     "text": [
      "1.0\n",
      "1.0\n",
      "1.0\n"
     ]
    }
   ],
   "source": [
    "print(Q1)\n",
    "print(Q2)\n",
    "print(Q3)"
   ]
  },
  {
   "cell_type": "code",
   "execution_count": 116,
   "id": "5a489798",
   "metadata": {},
   "outputs": [
    {
     "data": {
      "text/plain": [
       "1.0"
      ]
     },
     "execution_count": 116,
     "metadata": {},
     "output_type": "execute_result"
    }
   ],
   "source": [
    "data['Credit_History'].median()"
   ]
  },
  {
   "cell_type": "code",
   "execution_count": 117,
   "id": "3504ce1e",
   "metadata": {},
   "outputs": [],
   "source": [
    "IQR = Q3-Q1"
   ]
  },
  {
   "cell_type": "code",
   "execution_count": 118,
   "id": "9a3e0189",
   "metadata": {},
   "outputs": [
    {
     "name": "stdout",
     "output_type": "stream",
     "text": [
      "0.0\n"
     ]
    }
   ],
   "source": [
    "print(IQR)"
   ]
  },
  {
   "cell_type": "code",
   "execution_count": 119,
   "id": "9251a2ca",
   "metadata": {},
   "outputs": [],
   "source": [
    "up_lim = Q3+1.5*IQR\n",
    "low_lim = Q1-1.5*IQR"
   ]
  },
  {
   "cell_type": "code",
   "execution_count": 120,
   "id": "3da8f978",
   "metadata": {},
   "outputs": [
    {
     "name": "stdout",
     "output_type": "stream",
     "text": [
      "1.0\n",
      "1.0\n"
     ]
    }
   ],
   "source": [
    "print(up_lim)\n",
    "print(low_lim)"
   ]
  },
  {
   "cell_type": "code",
   "execution_count": 121,
   "id": "9f8ad4d0",
   "metadata": {},
   "outputs": [],
   "source": [
    "outliers = []\n",
    "for x in data['Credit_History']:\n",
    "    if(x>up_lim) or (x<low_lim):\n",
    "      outliers.append(x)"
   ]
  },
  {
   "cell_type": "code",
   "execution_count": 122,
   "id": "8133dd7b",
   "metadata": {},
   "outputs": [
    {
     "data": {
      "text/plain": [
       "[0.0,\n",
       " 0.8421985815602837,\n",
       " 0.0,\n",
       " 0.0,\n",
       " 0.0,\n",
       " 0.0,\n",
       " 0.8421985815602837,\n",
       " 0.8421985815602837,\n",
       " 0.0,\n",
       " 0.8421985815602837,\n",
       " 0.0,\n",
       " 0.0,\n",
       " 0.0,\n",
       " 0.0,\n",
       " 0.0,\n",
       " 0.0,\n",
       " 0.0,\n",
       " 0.0,\n",
       " 0.0,\n",
       " 0.8421985815602837,\n",
       " 0.8421985815602837,\n",
       " 0.8421985815602837,\n",
       " 0.8421985815602837,\n",
       " 0.0,\n",
       " 0.0,\n",
       " 0.8421985815602837,\n",
       " 0.0,\n",
       " 0.8421985815602837,\n",
       " 0.0,\n",
       " 0.8421985815602837,\n",
       " 0.8421985815602837,\n",
       " 0.0,\n",
       " 0.0,\n",
       " 0.0,\n",
       " 0.8421985815602837,\n",
       " 0.0,\n",
       " 0.0,\n",
       " 0.0,\n",
       " 0.0,\n",
       " 0.0,\n",
       " 0.8421985815602837,\n",
       " 0.0,\n",
       " 0.8421985815602837,\n",
       " 0.8421985815602837,\n",
       " 0.0,\n",
       " 0.0,\n",
       " 0.0,\n",
       " 0.8421985815602837,\n",
       " 0.0,\n",
       " 0.8421985815602837,\n",
       " 0.8421985815602837,\n",
       " 0.0,\n",
       " 0.0,\n",
       " 0.0,\n",
       " 0.8421985815602837,\n",
       " 0.8421985815602837,\n",
       " 0.0,\n",
       " 0.8421985815602837,\n",
       " 0.0,\n",
       " 0.0,\n",
       " 0.0,\n",
       " 0.0,\n",
       " 0.0,\n",
       " 0.8421985815602837,\n",
       " 0.8421985815602837,\n",
       " 0.8421985815602837,\n",
       " 0.8421985815602837,\n",
       " 0.8421985815602837,\n",
       " 0.0,\n",
       " 0.0,\n",
       " 0.0,\n",
       " 0.0,\n",
       " 0.8421985815602837,\n",
       " 0.0,\n",
       " 0.0,\n",
       " 0.8421985815602837,\n",
       " 0.0,\n",
       " 0.0,\n",
       " 0.8421985815602837,\n",
       " 0.0,\n",
       " 0.8421985815602837,\n",
       " 0.8421985815602837,\n",
       " 0.0,\n",
       " 0.0,\n",
       " 0.0,\n",
       " 0.0,\n",
       " 0.0,\n",
       " 0.8421985815602837,\n",
       " 0.0,\n",
       " 0.0,\n",
       " 0.0,\n",
       " 0.0,\n",
       " 0.0,\n",
       " 0.0,\n",
       " 0.8421985815602837,\n",
       " 0.0,\n",
       " 0.8421985815602837,\n",
       " 0.0,\n",
       " 0.8421985815602837,\n",
       " 0.0,\n",
       " 0.0,\n",
       " 0.8421985815602837,\n",
       " 0.0,\n",
       " 0.0,\n",
       " 0.0,\n",
       " 0.8421985815602837,\n",
       " 0.0,\n",
       " 0.0,\n",
       " 0.8421985815602837,\n",
       " 0.8421985815602837,\n",
       " 0.0,\n",
       " 0.8421985815602837,\n",
       " 0.0,\n",
       " 0.8421985815602837,\n",
       " 0.8421985815602837,\n",
       " 0.0,\n",
       " 0.0,\n",
       " 0.8421985815602837,\n",
       " 0.0,\n",
       " 0.8421985815602837,\n",
       " 0.0,\n",
       " 0.8421985815602837,\n",
       " 0.0,\n",
       " 0.0,\n",
       " 0.0,\n",
       " 0.0,\n",
       " 0.8421985815602837,\n",
       " 0.0,\n",
       " 0.8421985815602837,\n",
       " 0.0,\n",
       " 0.0,\n",
       " 0.0,\n",
       " 0.0,\n",
       " 0.8421985815602837,\n",
       " 0.0,\n",
       " 0.0,\n",
       " 0.0,\n",
       " 0.8421985815602837,\n",
       " 0.0]"
      ]
     },
     "execution_count": 122,
     "metadata": {},
     "output_type": "execute_result"
    }
   ],
   "source": [
    "outliers"
   ]
  },
  {
   "cell_type": "code",
   "execution_count": 123,
   "id": "b6140e47",
   "metadata": {},
   "outputs": [
    {
     "name": "stdout",
     "output_type": "stream",
     "text": [
      "Feature: ApplicantIncome\n",
      "Original values:\n",
      "0      5849\n",
      "1      4583\n",
      "2      3000\n",
      "3      2583\n",
      "4      6000\n",
      "       ... \n",
      "609    2900\n",
      "610    4106\n",
      "611    8072\n",
      "612    7583\n",
      "613    4583\n",
      "Name: ApplicantIncome, Length: 614, dtype: int64\n",
      "Modified values:\n",
      "0      5849.0\n",
      "1      4583.0\n",
      "2      3000.0\n",
      "3      2583.0\n",
      "4      6000.0\n",
      "        ...  \n",
      "609    2900.0\n",
      "610    4106.0\n",
      "611    8072.0\n",
      "612    7583.0\n",
      "613    4583.0\n",
      "Name: ApplicantIncome, Length: 614, dtype: float64\n",
      "\n",
      "Feature: LoanAmount\n",
      "Original values:\n",
      "0      146.412162\n",
      "1      128.000000\n",
      "2       66.000000\n",
      "3      120.000000\n",
      "4      141.000000\n",
      "          ...    \n",
      "609     71.000000\n",
      "610     40.000000\n",
      "611    253.000000\n",
      "612    187.000000\n",
      "613    133.000000\n",
      "Name: LoanAmount, Length: 614, dtype: float64\n",
      "Modified values:\n",
      "0      146.412162\n",
      "1      128.000000\n",
      "2       66.000000\n",
      "3      120.000000\n",
      "4      141.000000\n",
      "          ...    \n",
      "609     71.000000\n",
      "610     40.000000\n",
      "611    253.000000\n",
      "612    187.000000\n",
      "613    133.000000\n",
      "Name: LoanAmount, Length: 614, dtype: float64\n",
      "\n",
      "Feature: CoapplicantIncome\n",
      "Original values:\n",
      "0         0.0\n",
      "1      1508.0\n",
      "2         0.0\n",
      "3      2358.0\n",
      "4         0.0\n",
      "        ...  \n",
      "609       0.0\n",
      "610       0.0\n",
      "611     240.0\n",
      "612       0.0\n",
      "613       0.0\n",
      "Name: CoapplicantIncome, Length: 614, dtype: float64\n",
      "Modified values:\n",
      "0         0.0\n",
      "1      1508.0\n",
      "2         0.0\n",
      "3      2358.0\n",
      "4         0.0\n",
      "        ...  \n",
      "609       0.0\n",
      "610       0.0\n",
      "611     240.0\n",
      "612       0.0\n",
      "613       0.0\n",
      "Name: CoapplicantIncome, Length: 614, dtype: float64\n",
      "\n",
      "Feature: Loan_Amount_Term\n",
      "Original values:\n",
      "0      360.0\n",
      "1      360.0\n",
      "2      360.0\n",
      "3      360.0\n",
      "4      360.0\n",
      "       ...  \n",
      "609    360.0\n",
      "610    180.0\n",
      "611    360.0\n",
      "612    360.0\n",
      "613    360.0\n",
      "Name: Loan_Amount_Term, Length: 614, dtype: float64\n",
      "Modified values:\n",
      "0      360.0\n",
      "1      360.0\n",
      "2      360.0\n",
      "3      360.0\n",
      "4      360.0\n",
      "       ...  \n",
      "609    360.0\n",
      "610    180.0\n",
      "611    360.0\n",
      "612    360.0\n",
      "613    360.0\n",
      "Name: Loan_Amount_Term, Length: 614, dtype: float64\n",
      "\n",
      "Feature: Credit_History\n",
      "Original values:\n",
      "0      1.0\n",
      "1      1.0\n",
      "2      1.0\n",
      "3      1.0\n",
      "4      1.0\n",
      "      ... \n",
      "609    1.0\n",
      "610    1.0\n",
      "611    1.0\n",
      "612    1.0\n",
      "613    0.0\n",
      "Name: Credit_History, Length: 614, dtype: float64\n",
      "Modified values:\n",
      "0      1.0\n",
      "1      1.0\n",
      "2      1.0\n",
      "3      1.0\n",
      "4      1.0\n",
      "      ... \n",
      "609    1.0\n",
      "610    1.0\n",
      "611    1.0\n",
      "612    1.0\n",
      "613    0.0\n",
      "Name: Credit_History, Length: 614, dtype: float64\n",
      "\n"
     ]
    }
   ],
   "source": [
    "#  Identify the numerical features\n",
    "numerical_features = ['ApplicantIncome','LoanAmount','CoapplicantIncome','Loan_Amount_Term','Credit_History']\n",
    "\n",
    "#  Define percentiles for flooring and capping\n",
    "lower_bound = 0.01  # Adjust the lower bound percentile as per your requirement\n",
    "upper_bound = 0.99  # Adjust the upper bound percentile as per your requirement\n",
    "\n",
    "#  Create a copy of the original data for comparison\n",
    "original_data = data.copy()\n",
    "\n",
    "#  Apply flooring and capping to each numerical feature\n",
    "for feature in numerical_features:\n",
    "    feature_lower_bound = data[feature].quantile(lower_bound)\n",
    "    feature_upper_bound = data[feature].quantile(upper_bound)\n",
    "    \n",
    "    data[feature] = np.where(data[feature] < feature_lower_bound,\n",
    "                                        feature_lower_bound,\n",
    "                                        data[feature])\n",
    "    data[feature] = np.where(data[feature] > feature_upper_bound,\n",
    "                                        feature_upper_bound,\n",
    "                                        data[feature])\n",
    "\n",
    "#  Compare the original and modified values\n",
    "for feature in numerical_features:\n",
    "    print(f\"Feature: {feature}\")\n",
    "    print(\"Original values:\")\n",
    "    print(original_data[feature])\n",
    "    print(\"Modified values:\")\n",
    "    print(data[feature])\n",
    "    print()\n"
   ]
  },
  {
   "cell_type": "code",
   "execution_count": 124,
   "id": "b5a4d552",
   "metadata": {},
   "outputs": [],
   "source": [
    "#splitting data to feature and target\n",
    "x = data.drop(['Loan_Status','Loan_ID'],axis=1)\n",
    "y = data['Loan_Status']"
   ]
  },
  {
   "cell_type": "markdown",
   "id": "80242c52",
   "metadata": {},
   "source": [
    "One Hot Encoding"
   ]
  },
  {
   "cell_type": "code",
   "execution_count": 125,
   "id": "ca5cb1e4",
   "metadata": {},
   "outputs": [
    {
     "name": "stdout",
     "output_type": "stream",
     "text": [
      "        Category  Dependents  Education  Gender  Married  Property_Area  \\\n",
      "0         Gender           0          0       1        0              0   \n",
      "1        Married           0          0       0        1              0   \n",
      "2     Dependents           1          0       0        0              0   \n",
      "3      Education           0          1       0        0              0   \n",
      "4  Self_Employed           0          0       0        0              0   \n",
      "5  Property_Area           0          0       0        0              1   \n",
      "\n",
      "   Self_Employed  \n",
      "0              0  \n",
      "1              0  \n",
      "2              0  \n",
      "3              0  \n",
      "4              1  \n",
      "5              0  \n"
     ]
    }
   ],
   "source": [
    "# Create a sample DataFrame with a categorical variable\n",
    "data = {'Category':['Gender','Married','Dependents','Education','Self_Employed','Property_Area']}\n",
    "data = pd.DataFrame(data)\n",
    "\n",
    "# Apply one-hot encoding using pd.get_dummies()\n",
    "encoded_data = pd.get_dummies(data['Category'])\n",
    "\n",
    "# Concatenate the encoded columns with the original DataFrame\n",
    "data_encoded = pd.concat([data, encoded_data], axis=1)\n",
    "\n",
    "print(data_encoded)\n"
   ]
  },
  {
   "cell_type": "code",
   "execution_count": 126,
   "id": "6d865dea",
   "metadata": {},
   "outputs": [],
   "source": [
    "from sklearn.model_selection import train_test_split\n",
    "x_train,X_test,y_train,y_test = train_test_split(x,y,test_size=.25,random_state=42)"
   ]
  }
 ],
 "metadata": {
  "kernelspec": {
   "display_name": "Python 3 (ipykernel)",
   "language": "python",
   "name": "python3"
  },
  "language_info": {
   "codemirror_mode": {
    "name": "ipython",
    "version": 3
   },
   "file_extension": ".py",
   "mimetype": "text/x-python",
   "name": "python",
   "nbconvert_exporter": "python",
   "pygments_lexer": "ipython3",
   "version": "3.10.9"
  }
 },
 "nbformat": 4,
 "nbformat_minor": 5
}
